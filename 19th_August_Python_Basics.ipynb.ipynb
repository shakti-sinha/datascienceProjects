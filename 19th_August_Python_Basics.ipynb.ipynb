{
 "cells": [
  {
   "cell_type": "code",
   "execution_count": 14,
   "id": "4dd157ff-8188-4750-880d-625a53b06468",
   "metadata": {},
   "outputs": [
    {
     "data": {
      "text/plain": [
       "(15, 10)"
      ]
     },
     "execution_count": 14,
     "metadata": {},
     "output_type": "execute_result"
    }
   ],
   "source": [
    "#1\n",
    "x = 10\n",
    "y= 15\n",
    "x = x +y\n",
    "y= x-y\n",
    "x= x-y\n",
    "x,y\n"
   ]
  },
  {
   "cell_type": "code",
   "execution_count": 22,
   "id": "baab49b2-f765-4a75-ae3b-2fc461a05e2c",
   "metadata": {},
   "outputs": [
    {
     "name": "stdin",
     "output_type": "stream",
     "text": [
      " 20\n",
      " 30\n"
     ]
    },
    {
     "data": {
      "text/plain": [
       "600"
      ]
     },
     "execution_count": 22,
     "metadata": {},
     "output_type": "execute_result"
    }
   ],
   "source": [
    "#2\n",
    "len = int(input())\n",
    "wid = int(input())\n",
    "area = len * wid\n",
    "area"
   ]
  },
  {
   "cell_type": "code",
   "execution_count": 5,
   "id": "3ca9242a-e87b-43d6-b283-75ac211c22cc",
   "metadata": {},
   "outputs": [
    {
     "name": "stdin",
     "output_type": "stream",
     "text": [
      " 34.879\n"
     ]
    },
    {
     "data": {
      "text/plain": [
       "94.7822"
      ]
     },
     "execution_count": 5,
     "metadata": {},
     "output_type": "execute_result"
    }
   ],
   "source": [
    "# 3\n",
    "cel_Temp = float(input())\n",
    "far_Temp = (cel_Temp * 9/5) + 32\n",
    "far_Temp"
   ]
  },
  {
   "cell_type": "code",
   "execution_count": 11,
   "id": "62e69ff9-8320-48dc-9864-f08f22d6bc5a",
   "metadata": {},
   "outputs": [
    {
     "name": "stdin",
     "output_type": "stream",
     "text": [
      " ttt\n"
     ]
    },
    {
     "data": {
      "text/plain": [
       "3"
      ]
     },
     "execution_count": 11,
     "metadata": {},
     "output_type": "execute_result"
    }
   ],
   "source": [
    "#4 \n",
    "a = str(input())\n",
    "len(a)\n"
   ]
  },
  {
   "cell_type": "code",
   "execution_count": 1,
   "id": "402d9c14-800d-42a6-9fe6-1b613a08d2de",
   "metadata": {},
   "outputs": [
    {
     "name": "stdin",
     "output_type": "stream",
     "text": [
      " tyyy\n"
     ]
    },
    {
     "data": {
      "text/plain": [
       "0"
      ]
     },
     "execution_count": 1,
     "metadata": {},
     "output_type": "execute_result"
    }
   ],
   "source": [
    "#5\n",
    "sentence = str(input())\n",
    "\n",
    "#len(sentence)\n",
    "vowels =['a','e','i', 'o','u' , 'A', 'E', 'I', 'O', 'U']\n",
    "count = 0\n",
    "for  i in sentence:\n",
    "    if i in vowels:\n",
    "     count = count+1\n",
    "result = count\n",
    "result"
   ]
  },
  {
   "cell_type": "code",
   "execution_count": 17,
   "id": "8b0d8cb3-ae4e-43a1-a80e-84edd5fec81b",
   "metadata": {},
   "outputs": [
    {
     "data": {
      "text/plain": [
       "'stnemngissa'"
      ]
     },
     "execution_count": 17,
     "metadata": {},
     "output_type": "execute_result"
    }
   ],
   "source": [
    "#6 \n",
    "a = \"assignments\"\n",
    "len(a)\n",
    "b= a[11:: -1]\n",
    "b"
   ]
  },
  {
   "cell_type": "code",
   "execution_count": 15,
   "id": "603c3527-50df-4939-881f-52b32c186b8b",
   "metadata": {},
   "outputs": [
    {
     "name": "stdin",
     "output_type": "stream",
     "text": [
      " ioi\n"
     ]
    },
    {
     "name": "stdout",
     "output_type": "stream",
     "text": [
      "palindrome\n"
     ]
    }
   ],
   "source": [
    "#7\n",
    "a= str(input())\n",
    "c= len(a);\n",
    "l=a[c::-1]\n",
    "if l== a:\n",
    "    print(\"palindrome\")\n"
   ]
  },
  {
   "cell_type": "code",
   "execution_count": 53,
   "id": "4fa12a52-b381-4c87-845a-465ac360078e",
   "metadata": {},
   "outputs": [
    {
     "name": "stdin",
     "output_type": "stream",
     "text": [
      " tt yy oo  \n"
     ]
    },
    {
     "data": {
      "text/plain": [
       "'ttyyoo'"
      ]
     },
     "execution_count": 53,
     "metadata": {},
     "output_type": "execute_result"
    }
   ],
   "source": [
    "#8\n",
    "x= str(input())\n",
    "x.strip()\n",
    "x.replace(' ','')"
   ]
  },
  {
   "cell_type": "code",
   "execution_count": null,
   "id": "ed222690-5565-47e2-a208-79f9f542fa83",
   "metadata": {},
   "outputs": [],
   "source": []
  }
 ],
 "metadata": {
  "kernelspec": {
   "display_name": "Python 3 (ipykernel)",
   "language": "python",
   "name": "python3"
  },
  "language_info": {
   "codemirror_mode": {
    "name": "ipython",
    "version": 3
   },
   "file_extension": ".py",
   "mimetype": "text/x-python",
   "name": "python",
   "nbconvert_exporter": "python",
   "pygments_lexer": "ipython3",
   "version": "3.10.8"
  }
 },
 "nbformat": 4,
 "nbformat_minor": 5
}
